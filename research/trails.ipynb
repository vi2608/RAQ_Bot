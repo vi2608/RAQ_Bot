{
 "cells": [
  {
   "cell_type": "code",
   "execution_count": 2,
   "id": "ef714a5d-839a-439d-853d-4c0ecf12960e",
   "metadata": {},
   "outputs": [],
   "source": [
    "from langchain_astradb import AstraDBVectorStore\n",
    "from langchain_openai import OpenAIEmbeddings\n",
    "from dotenv import load_dotenv\n",
    "import os"
   ]
  },
  {
   "cell_type": "code",
   "execution_count": 3,
   "id": "296ac87c-310f-407e-93e4-96ee035c928d",
   "metadata": {},
   "outputs": [
    {
     "data": {
      "text/plain": [
       "True"
      ]
     },
     "execution_count": 3,
     "metadata": {},
     "output_type": "execute_result"
    }
   ],
   "source": [
    "load_dotenv()\n"
   ]
  },
  {
   "cell_type": "code",
   "execution_count": 4,
   "id": "d67adfe1-c176-4b7b-b485-4f1a91ea2b6c",
   "metadata": {},
   "outputs": [],
   "source": [
    "OPENAI_API_KEY = os.getenv(\"OPENAI_API_KEY\")\n",
    "os.environ[\"OPENAI_API_KEY\"] = OPENAI_API_KEY"
   ]
  },
  {
   "cell_type": "code",
   "execution_count": 5,
   "id": "004b5549-2909-44ef-944a-d3db53d40984",
   "metadata": {},
   "outputs": [],
   "source": [
    "embeddings = OpenAIEmbeddings(model=\"text-embedding-3-small\")"
   ]
  },
  {
   "cell_type": "code",
   "execution_count": 6,
   "id": "a06f895e-f833-4a7c-ae20-4dd1c7bf7212",
   "metadata": {},
   "outputs": [
    {
     "data": {
      "text/plain": [
       "OpenAIEmbeddings(client=<openai.resources.embeddings.Embeddings object at 0x10ff29e50>, async_client=<openai.resources.embeddings.AsyncEmbeddings object at 0x105d0b050>, model='text-embedding-3-small', dimensions=None, deployment='text-embedding-ada-002', openai_api_version=None, openai_api_base=None, openai_api_type=None, openai_proxy=None, embedding_ctx_length=8191, openai_api_key=SecretStr('**********'), openai_organization=None, allowed_special=None, disallowed_special=None, chunk_size=1000, max_retries=2, request_timeout=None, headers=None, tiktoken_enabled=True, tiktoken_model_name=None, show_progress_bar=False, model_kwargs={}, skip_empty=False, default_headers=None, default_query=None, retry_min_seconds=4, retry_max_seconds=20, http_client=None, http_async_client=None, check_embedding_ctx_length=True)"
      ]
     },
     "execution_count": 6,
     "metadata": {},
     "output_type": "execute_result"
    }
   ],
   "source": [
    "embeddings"
   ]
  },
  {
   "cell_type": "code",
   "execution_count": 7,
   "id": "a816103b-4df2-4877-bb43-f8db00fdd2a8",
   "metadata": {},
   "outputs": [
    {
     "data": {
      "text/plain": [
       "OpenAIEmbeddings(client=<openai.resources.embeddings.Embeddings object at 0x10ff29e50>, async_client=<openai.resources.embeddings.AsyncEmbeddings object at 0x105d0b050>, model='text-embedding-3-small', dimensions=None, deployment='text-embedding-ada-002', openai_api_version=None, openai_api_base=None, openai_api_type=None, openai_proxy=None, embedding_ctx_length=8191, openai_api_key=SecretStr('**********'), openai_organization=None, allowed_special=None, disallowed_special=None, chunk_size=1000, max_retries=2, request_timeout=None, headers=None, tiktoken_enabled=True, tiktoken_model_name=None, show_progress_bar=False, model_kwargs={}, skip_empty=False, default_headers=None, default_query=None, retry_min_seconds=4, retry_max_seconds=20, http_client=None, http_async_client=None, check_embedding_ctx_length=True)"
      ]
     },
     "execution_count": 7,
     "metadata": {},
     "output_type": "execute_result"
    }
   ],
   "source": [
    "embeddings"
   ]
  },
  {
   "cell_type": "code",
   "execution_count": 25,
   "id": "a91473e8-737c-4706-978d-f2e58476612b",
   "metadata": {},
   "outputs": [],
   "source": [
    "ASTRA_DB_API_ENDPOINT = \"\"\n",
    "ASTRA_DB_APPLICATION_TOKEN = \"\"\n",
    "ASTRA_DB_KEYSPACE = \"\""
   ]
  },
  {
   "cell_type": "code",
   "execution_count": 10,
   "id": "f61dc210-5dbf-4cee-a19a-92e3a2b18607",
   "metadata": {},
   "outputs": [
    {
     "ename": "NameError",
     "evalue": "name 'ASTRA_DB_API_ENDPOINT' is not defined",
     "output_type": "error",
     "traceback": [
      "\u001b[0;31m---------------------------------------------------------------------------\u001b[0m",
      "\u001b[0;31mNameError\u001b[0m                                 Traceback (most recent call last)",
      "Cell \u001b[0;32mIn[10], line 1\u001b[0m\n\u001b[0;32m----> 1\u001b[0m api_endpoint \u001b[38;5;241m=\u001b[39m \u001b[43mASTRA_DB_API_ENDPOINT\u001b[49m,\n\u001b[1;32m      2\u001b[0m token \u001b[38;5;241m=\u001b[39m ASTRA_DB_APPLICATION_TOKEN,\n\u001b[1;32m      3\u001b[0m namespace \u001b[38;5;241m=\u001b[39m ASTRA_DB_KEYSPACE\n",
      "\u001b[0;31mNameError\u001b[0m: name 'ASTRA_DB_API_ENDPOINT' is not defined"
     ]
    }
   ],
   "source": [
    "api_endpoint = ASTRA_DB_API_ENDPOINT,\n",
    "token = ASTRA_DB_APPLICATION_TOKEN,\n",
    "namespace = ASTRA_DB_KEYSPACE"
   ]
  },
  {
   "cell_type": "code",
   "execution_count": 8,
   "id": "d49fe743-ea75-48b2-8a24-1514ff6aa8ea",
   "metadata": {},
   "outputs": [],
   "source": [
    "collection_name = \"IntusWindowBot\""
   ]
  },
  {
   "cell_type": "code",
   "execution_count": 9,
   "id": "7e940701-de8b-4883-a454-9d488acfb18a",
   "metadata": {},
   "outputs": [
    {
     "ename": "NameError",
     "evalue": "name 'ASTRA_DB_API_ENDPOINT' is not defined",
     "output_type": "error",
     "traceback": [
      "\u001b[0;31m---------------------------------------------------------------------------\u001b[0m",
      "\u001b[0;31mNameError\u001b[0m                                 Traceback (most recent call last)",
      "Cell \u001b[0;32mIn[9], line 4\u001b[0m\n\u001b[1;32m      1\u001b[0m vstore \u001b[38;5;241m=\u001b[39m AstraDBVectorStore(\n\u001b[1;32m      2\u001b[0m     embedding \u001b[38;5;241m=\u001b[39m embeddings,\n\u001b[1;32m      3\u001b[0m     collection_name \u001b[38;5;241m=\u001b[39m collection_name,\n\u001b[0;32m----> 4\u001b[0m     api_endpoint \u001b[38;5;241m=\u001b[39m \u001b[43mASTRA_DB_API_ENDPOINT\u001b[49m,\n\u001b[1;32m      5\u001b[0m     token \u001b[38;5;241m=\u001b[39m ASTRA_DB_APPLICATION_TOKEN,\n\u001b[1;32m      6\u001b[0m     namespace \u001b[38;5;241m=\u001b[39m ASTRA_DB_KEYSPACE\n\u001b[1;32m      7\u001b[0m )\n",
      "\u001b[0;31mNameError\u001b[0m: name 'ASTRA_DB_API_ENDPOINT' is not defined"
     ]
    }
   ],
   "source": [
    "vstore = AstraDBVectorStore(\n",
    "    embedding = embeddings,\n",
    "    collection_name = collection_name,\n",
    "    api_endpoint = ASTRA_DB_API_ENDPOINT,\n",
    "    token = ASTRA_DB_APPLICATION_TOKEN,\n",
    "    namespace = ASTRA_DB_KEYSPACE\n",
    ")"
   ]
  },
  {
   "cell_type": "code",
   "execution_count": 11,
   "id": "3d368eb3-eb94-4b16-8d74-32ef95f3ae39",
   "metadata": {},
   "outputs": [],
   "source": [
    "from langchain_community.document_loaders import PyPDFLoader"
   ]
  },
  {
   "cell_type": "code",
   "execution_count": 31,
   "id": "b2ac73e1-2545-4eb1-b49d-c5d9613faf08",
   "metadata": {},
   "outputs": [],
   "source": [
    "pdf_paths = [\"/Users/vipulmunot/Documents/QA_BOT/QA_PDF_Bot/data/f1.pdf\", \"/Users/vipulmunot/Documents/QA_BOT/QA_PDF_Bot/data/f2.pdf\"]\n",
    "all_pages = []"
   ]
  },
  {
   "cell_type": "code",
   "execution_count": 32,
   "id": "53330272-36b7-402e-825b-71ecd7cec048",
   "metadata": {},
   "outputs": [
    {
     "name": "stdout",
     "output_type": "stream",
     "text": [
      "Loaded 6 pages from /Users/vipulmunot/Documents/QA_BOT/QA_PDF_Bot/data/f1.pdf\n",
      "Loaded 7 pages from /Users/vipulmunot/Documents/QA_BOT/QA_PDF_Bot/data/f2.pdf\n",
      "Total pages loaded: 13\n"
     ]
    }
   ],
   "source": [
    "for path in pdf_paths:\n",
    "    loader = PyPDFLoader(path)\n",
    "    pages = loader.load()\n",
    "    all_pages.extend(pages)\n",
    "    print(f\"Loaded {len(pages)} pages from {path}\")\n",
    "print(f\"Total pages loaded: {len(all_pages)}\")"
   ]
  },
  {
   "cell_type": "code",
   "execution_count": 33,
   "id": "beb016bc-3f3f-41bf-b5e7-5d7f36b720b8",
   "metadata": {},
   "outputs": [
    {
     "data": {
      "text/plain": [
       "[Document(metadata={'source': '/Users/vipulmunot/Documents/QA_BOT/QA_PDF_Bot/data/f1.pdf', 'page': 0}, page_content='This story is part of our client success series. It showcases Fortune 100 and\\n500 customers across various industries that turned to Privacera to solve\\ntheir tough data security, access, and governance challenges. Check out all\\nthe stories in this series.\\xa0\\nWorld travel is big business for this internet company, which holds a large\\nportfolio of internet travel brands. It distributes and markets its products\\nvia the web, apps, desktops, mobile offerings, and alternative distribution\\nchannels. Its growth strategy aims to deliver the best travel opportunities\\nfor its customers, including travelers, travel suppliers and advertisers.\\nBecause travelers visit multiple sites before booking trips, this company\\nbanks on having a multi-brand strategy, increasing its chances consumers\\nwill visit one or more of its sites.\\nWhen the company merged its business groups, multiple data lakes\\nformed, each with ineffective, manual, siloed, and unmanageable data\\ngovernance controls. See how this company overcame its challenges by\\nadopting Privacera to enable centralized, automated, and consistent data\\nsecurity governance.\\nAUG 15, 2023\\nClient Success:\\nInternet Travel\\nCompany\\nUnifies\\nGovernance\\nAcross Data\\nLakes\\nWe use cookies to ensure that we give you the best experience on our website. If you continue to use this site we\\nwill assume that you are happy with it.\\n'),\n",
       " Document(metadata={'source': '/Users/vipulmunot/Documents/QA_BOT/QA_PDF_Bot/data/f1.pdf', 'page': 1}, page_content='Business Risks\\nThis company recently unified its technology, product, data engineering,\\nand data science teams to build services and capabilities for leveraging\\nacross each business unit. It had a goal to create more scalable, efficient\\nservices. By achieving its goal, all its businesses would benefit from a\\nshared platform infrastructure, including customer service and support,\\ndata centers, search capabilities, payment processing, and fraud\\noperations.\\xa0\\nBecause of the consumer and sensitive data this company holds, it must\\ncomply with global consumer protections, privacy legislation, and payment\\nregulations. Two sets of regulations in particular include:\\nBoth of these data protection and privacy laws require enhanced data\\nprotection and add compliance complexity, risk, and cost to how the\\ncompany runs its business.\\nBusiness Issues\\nThe company needed to merge multiple data lakes due to changes in the\\ncompany’s enterprise architecture and centralization of technology\\nmanagement. Because its business units were separate entities, they\\nignored governance, came up short on governance, or implemented rules\\ntoo difficult to follow. Teams from each business unit oversaw governance,\\nwhich created an inconsistent, unmanageable situation.\\xa0\\nWhen the machine learning and analytics team took over the Databricks\\neffort, it\\xa0 needed to find a coherent, consistent solution for data\\ngovernance. From this point forward, IT governance—under the IT\\ndepartment, not security—managed overall governance.\\xa0\\nIn working with each business unit, this team asked business-relevant\\nquestions, including:\\xa0California Privacy Rights Act (CPRA)\\xa0\\nEuropean Union’s General Data Protection Regulation (GDPR)\\nWhich job titles should have access to which data?\\nWere there differences in requirements per business unit?OK Privacy policy'),\n",
       " Document(metadata={'source': '/Users/vipulmunot/Documents/QA_BOT/QA_PDF_Bot/data/f1.pdf', 'page': 2}, page_content='Once the team had the answers it needed, it looked at Apache Ranger on\\nDatabricks. Because Apache Ranger doesn’t sufficiently manage policies\\non Databricks, the team evaluated other solutions, weighing critical factors,\\nwhich included:\\nSolution\\nThis company chose Privacera for its ability to securely manage policies\\nand users and enable access controls to multiple data sources while\\nmaintaining overarching governance and compliance requirements. Using\\nPrivacera, the team found it easy to add, revoke, and suspend privileges.\\nAnd by centralizing governance on a single platform, the company could\\nachieve its goal of moving from four groups to one group to oversee its\\ndata governance.\\nLikewise, the ability to centralize access management and audit modules\\nmade it easier for the internal data center of excellence to monitor\\ncompliance. The company also improved security by implementing a\\nsimpler, streamlined process for creating user and group access policies for\\nmultiple data sources. More importantly, it had a consistent way to meet\\nregulatory requirements. A company representative said, “Role-based\\naccess governance is amazing. The ability to mask columns based on\\naccess is a real game-changer.”\\xa0\\xa0\\nNo matter how unique your data ecosystem, products, and processes are,\\nPrivacera can help future-proof your data security, access, and governance\\nfor greater scalability, connectivity, and competitive opportunities.\\xa0Learn\\nmore in our whitepaper Data Security Maturity Model in 5 Steps. Read the\\nwhitepaper.Should everything be identical across the whole company?\\nSystem performance\\nColumn masking\\xa0\\nLDAP/AD integration\\nAutomation to manage policies across different Databricks\\nworkspaces\\nIntegration with OKTA for Single Sign On (SSO)'),\n",
       " Document(metadata={'source': '/Users/vipulmunot/Documents/QA_BOT/QA_PDF_Bot/data/f1.pdf', 'page': 3}, page_content='Tags\\nMigrate to Cloud Trusted Data Access\\nAutomate Privacy and Compliance\\nAuthor\\nPrivacera\\nAuthor\\nRelated Posts\\nClient Success: Software Company Speeds Up Data Migration,\\nAutomates Governance\\nRead More\\nClient Success: Consumer Products Company Tightens Access\\nControl, Governance to Stay Ahead of Trends\\nRead More\\nClient Success: Financial Services Company Fills Data Requests in\\nDays, Not Weeks\\nRead More'),\n",
       " Document(metadata={'source': '/Users/vipulmunot/Documents/QA_BOT/QA_PDF_Bot/data/f1.pdf', 'page': 4}, page_content='Interested in\\nLearning More?\\nSubscribe today to stay informed and get regular\\nupdates from Privacera.\\nFirst Name*\\nEmail Address*\\nI agree to receive other communications from Privacera.*\\nprotected b y r eCAPT CH A\\nPrivacy  - Terms\\nSubscribe\\n39899 Balentine Dr., Suite 330\\nNewark, CA 94560 USA\\n510-413-7300\\nquestions@privacera.com'),\n",
       " Document(metadata={'source': '/Users/vipulmunot/Documents/QA_BOT/QA_PDF_Bot/data/f1.pdf', 'page': 5}, page_content='Platform\\nUse Cases\\nCompany\\nResources\\nSupport\\n©2024 Privacera, Inc.\\nLegal\\n/\\nPrivacy Policy\\n/\\nTerms of Use\\nCookie Policy'),\n",
       " Document(metadata={'source': '/Users/vipulmunot/Documents/QA_BOT/QA_PDF_Bot/data/f2.pdf', 'page': 0}, page_content='This story is part of our client success series. It showcases Fortune 100 and\\n500 customers across various industries that turned to Privacera to solve\\ntheir tough data security, access, and governance challenges. Check out all\\nthe stories in this series.\\xa0\\nWith millions of subscribers and customers worldwide, this global media\\nand technology company has a goldmine of client and usage data. The\\ndata comes from its diverse offerings, including high-speed internet, video,\\nvoice, wireless, security and automation services, and even theme parks.\\nBecause of its worldwide presence, its businesses comply with strict\\nfederal, state and foreign laws and regulations related to data privacy and\\nhandling personal data.\\xa0\\nAs a part of a new business initiative, the company wanted to improve its\\ncustomer experience (CX), marketing, and operations, but soon realized\\nmajor data governance challenges. Its manual approach to translate its\\ndata governance policies to its big data applications proved overly\\ncomplex and didn’t scale with demand. Read the story to learn how this\\ncompany was able to maintain consistent compliance and governance, and\\nautomate its policies, across its existing infrastructure from the Privacera\\nAUG 15, 2023\\nClient Success:\\nMedia and Tech\\nFirm\\nAutomates\\nData\\nGovernance,\\nCompliance to\\nImprove CX\\nWe use cookies to ensure that we give you the best experience on our website. If you continue to use this site we\\nwill assume that you are happy with it.\\nOK Privacy policy\\n'),\n",
       " Document(metadata={'source': '/Users/vipulmunot/Documents/QA_BOT/QA_PDF_Bot/data/f2.pdf', 'page': 1}, page_content='platform.\\nBusiness Risks\\nThis media and technology company can’t afford to miss a step in securing\\nits data. It’s governed heavily by:\\nThe restrictions include non-consensual collection of personally identifiable\\ninformation (PII) and disclosure to third parties. Also, the company must\\nalso undergo regular reviews of new and evolving technologies, as well as\\ncontent and advertising delivery methods.\\xa0\\nThis client’s data includes confidential, proprietary, and personal\\ninformation about customers, employees, and vendors. Failure to comply\\nwith the regulations would expose this data and the company to a potential\\ndata breach and stiff penalties. The risk could significantly impact the\\ncompany’s business, reputation, and operations. To avoid these risks, the\\ncustomer implemented stringent data security and data minimization\\nrequirements.\\nBusiness Issues\\nAs this project evolved, this company migrated its structured and\\nunstructured data from its on-premises databases and data warehouses to\\nan on-premises Hadoop environment. It then migrated to Amazon Web\\nServices (AWS) to achieve greater elasticity, accelerated microservices\\ndevelopment, and reduced infrastructure management. From a business\\nperspective, it turned to the cloud for its flexibility and efficiency in\\nonboarding data and providing data access.\\xa0\\nHowever, before rolling out its AWS instances, the company needed to\\nensure it could govern its data effectively to ensure it met all regulations forInternational data security and privacy laws, including European\\nUnion’s General Data Protection Regulation (GDPR) and the United\\nKingdom’s Data Protection Act 2018\\nFederal regulations imposed by the United States Communications\\nAct and the Federal Trade Commission (FTC)\\nState laws around consumer privacy protections, data security, and\\nsecurity breach notification\\xa0'),\n",
       " Document(metadata={'source': '/Users/vipulmunot/Documents/QA_BOT/QA_PDF_Bot/data/f2.pdf', 'page': 2}, page_content='data collection and handling. This made governance a critical element of its\\nbig data strategy and practice. This company also determined it needed\\ncentralized, granular control over who can access and use what data, how,\\nand when.\\xa0\\nTo solve its data governance problems, the company started translating its\\ndata governance policies into its big data applications. Its initial approach\\nfocused on creating policy control layers to manage access to specific\\ndatabase layers within their AWS infrastructure. However, this approach\\nproved overly complex and didn’t scale with demand.\\nSolution\\nFor this reason, the company turned to Privacera. From the Privacera\\nunified data security governance platform, this client was able to manage\\ngovernance policies across all applications. It even gained the ability to\\ncontrol data access down to individual database rows and columns.\\xa0\\nThis client was already familiar with the Apache Ranger framework, which\\nPrivacera is based on, because its earlier on-premises instances were\\nHadoop-based. By using Privacera, this client could extend its existing\\nRanger foundation to the cloud as a unified solution across its\\nenvironments. In addition, because Privacera integrates with tools, such as\\nDatabricks, Amazon EMR, Kafka, and Presto, this client could build an\\nenterprise-grade solution that supports a broad base of big data analytics\\ncapabilities while ensuring consistent security and governance.\\nBusiness Impact\\nWith Privacera, the customer achieved concrete business value.\\nInternal and Regulatory Compliance\\xa0\\nNeeding to manage data access, privacy, and sharing, this client’s business\\nteams and data owners could set their own rules for how others in the\\norganization could view and use the data. The fine-grained access control\\nenabled them to establish criteria by groups, roles, and data classification.\\nBy adopting Privacera to unify governance across its on-premises and\\ncloud environments, the company enabled an analytics foundation for data\\ninitiatives throughout the company.\\xa0\\xa0\\nCustomer-360 Approach to Marketing and Ad\\nSales\\nWith fine-grained access control and governance over its diverse data'),\n",
       " Document(metadata={'source': '/Users/vipulmunot/Documents/QA_BOT/QA_PDF_Bot/data/f2.pdf', 'page': 3}, page_content='types, this client has enabled data democratization across the\\norganization. Employees can now access data more easily to cross-market\\nofferings based on customer behavior across its services. It can even offer\\npersonalized content recommendations on its streaming, cable TV, and\\npay-per-view services for multi-service product bundles. Similarly, the\\ncompany’s ad sales teams can target local and national ads more\\neffectively to deliver greater value for customers and marketers.\\nOptimized Operations for an Improved\\nCustomer Experience\\nInfrastructure performance is critical for delivering a good customer\\nexperience. As part of its ongoing investment in digitalization, this\\ncompany built new capabilities to predict outages, troubleshoot service\\nproblems, and ensure consistent availability. With the governance layer, the\\noperations teams have access to more detailed customer data, such as\\nindividual MAC addresses, than would be appropriate for other teams, such\\nas marketing. This way, the company can leverage the full value of its data\\nwithout compromising customer privacy.\\xa0\\nNo matter how unique your data ecosystem, products, and processes are,\\nPrivacera can help future-proof your data security, access, and governance\\nfor greater scalability, connectivity, and competitive opportunities.\\xa0\\nLearn more in the ebook How to Drive Data Value and Innovation with\\nUnified Data Security Governance. Read the ebook.\\nTags\\nMigrate to Cloud Automate Privacy and Compliance\\nFederate Data Stewardship\\nAuthor\\nPrivacera\\nAuthor\\nRelated Posts'),\n",
       " Document(metadata={'source': '/Users/vipulmunot/Documents/QA_BOT/QA_PDF_Bot/data/f2.pdf', 'page': 4}, page_content='Client Success: Software Company Speeds Up Data Migration,\\nAutomates Governance\\nRead More\\nClient Success: Manufacturer Gets Row-Level Control of IoT Data\\nfor Compliance\\nRead More\\nClient Success: Financial Services Company Banks on Compliance\\nwith Privacera\\nRead More\\nInterested in\\nLearning More?\\nSubscribe today to stay informed and get regular\\nupdates from Privacera.\\nFirst Name*\\nEmail Address*'),\n",
       " Document(metadata={'source': '/Users/vipulmunot/Documents/QA_BOT/QA_PDF_Bot/data/f2.pdf', 'page': 5}, page_content='I agree to receive other communications from Privacera.*\\nprotected b y r eCAPT CH A\\nPrivacy  - Terms\\nSubscribe\\n39899 Balentine Dr., Suite 330\\nNewark, CA 94560 USA\\n510-413-7300\\nquestions@privacera.com\\nPlatform\\nUse Cases\\nCompany\\nResources\\nSupport\\n©2024 Privacera, Inc.'),\n",
       " Document(metadata={'source': '/Users/vipulmunot/Documents/QA_BOT/QA_PDF_Bot/data/f2.pdf', 'page': 6}, page_content='Legal\\n/\\nPrivacy Policy\\n/\\nTerms of Use\\nCookie Policy')]"
      ]
     },
     "execution_count": 33,
     "metadata": {},
     "output_type": "execute_result"
    }
   ],
   "source": [
    "all_pages"
   ]
  },
  {
   "cell_type": "code",
   "execution_count": 34,
   "id": "686b60ba-6604-4fae-a15d-c10159a3a317",
   "metadata": {},
   "outputs": [],
   "source": [
    "from langchain.text_splitter import RecursiveCharacterTextSplitter"
   ]
  },
  {
   "cell_type": "code",
   "execution_count": 35,
   "id": "aed9d5a9-41ba-46c6-b13c-88e2a514d730",
   "metadata": {},
   "outputs": [],
   "source": [
    "raw_text = ''\n",
    "for i, doc in enumerate(all_pages):\n",
    "    text = doc.page_content\n",
    "    if text:\n",
    "        raw_text += text"
   ]
  },
  {
   "cell_type": "code",
   "execution_count": 36,
   "id": "9cfa43d8-837d-4fd3-8216-6c71f2ee09dd",
   "metadata": {},
   "outputs": [],
   "source": [
    "text_splitter = RecursiveCharacterTextSplitter(\n",
    "    chunk_size = 500,\n",
    "    chunk_overlap = 100,\n",
    ")"
   ]
  },
  {
   "cell_type": "code",
   "execution_count": 37,
   "id": "605327c3-3dc8-4d54-94aa-241605fe3874",
   "metadata": {},
   "outputs": [],
   "source": [
    "texts = text_splitter.split_text(raw_text)"
   ]
  },
  {
   "cell_type": "code",
   "execution_count": 38,
   "id": "afd76535-b089-4a5a-9c89-7f489b799874",
   "metadata": {},
   "outputs": [
    {
     "data": {
      "text/plain": [
       "51"
      ]
     },
     "execution_count": 38,
     "metadata": {},
     "output_type": "execute_result"
    }
   ],
   "source": [
    "len(text)"
   ]
  },
  {
   "cell_type": "code",
   "execution_count": 39,
   "id": "562baf1c-3027-4a51-9711-ccc1da9bab57",
   "metadata": {},
   "outputs": [
    {
     "data": {
      "text/plain": [
       "'This story is part of our client success series. It showcases Fortune 100 and\\n500 customers across various industries that turned to Privacera to solve\\ntheir tough data security, access, and governance challenges. Check out all\\nthe stories in this series.\\xa0\\nWorld travel is big business for this internet company, which holds a large\\nportfolio of internet travel brands. It distributes and markets its products\\nvia the web, apps, desktops, mobile offerings, and alternative distribution'"
      ]
     },
     "execution_count": 39,
     "metadata": {},
     "output_type": "execute_result"
    }
   ],
   "source": [
    "texts[0]"
   ]
  },
  {
   "cell_type": "code",
   "execution_count": 40,
   "id": "88fd558b-4fe3-4a8c-b781-c0c2cb4eab77",
   "metadata": {},
   "outputs": [],
   "source": [
    "from langchain_core.documents import Document"
   ]
  },
  {
   "cell_type": "code",
   "execution_count": 41,
   "id": "6cca6994-fbd4-4469-9b2d-1c185cbda649",
   "metadata": {},
   "outputs": [],
   "source": [
    "docs = []\n",
    "for i in range(len(texts)):\n",
    "    doc = Document(page_content=texts[i])\n",
    "    docs.append(doc)"
   ]
  },
  {
   "cell_type": "code",
   "execution_count": 42,
   "id": "42269847-b904-4ba1-8880-6d17c472a604",
   "metadata": {},
   "outputs": [
    {
     "ename": "NameError",
     "evalue": "name 'vstore' is not defined",
     "output_type": "error",
     "traceback": [
      "\u001b[0;31m---------------------------------------------------------------------------\u001b[0m",
      "\u001b[0;31mNameError\u001b[0m                                 Traceback (most recent call last)",
      "Cell \u001b[0;32mIn[42], line 1\u001b[0m\n\u001b[0;32m----> 1\u001b[0m \u001b[43mvstore\u001b[49m\u001b[38;5;241m.\u001b[39madd_documents(docs)\n",
      "\u001b[0;31mNameError\u001b[0m: name 'vstore' is not defined"
     ]
    }
   ],
   "source": [
    "vstore.add_documents(docs)"
   ]
  },
  {
   "cell_type": "code",
   "execution_count": 68,
   "id": "0097e7c2-c788-4f42-b9f5-fb707126eb61",
   "metadata": {},
   "outputs": [],
   "source": [
    "retriever = vstore.as_retriever(search_kwargs={\"k\": 3})"
   ]
  },
  {
   "cell_type": "code",
   "execution_count": 43,
   "id": "3d310cb5-d62d-4e80-9da8-3d3ea288907c",
   "metadata": {},
   "outputs": [],
   "source": [
    "WINDOW_BOT_TEMPLATE = \"\"\"\n",
    "You are an AI assistant specializing in Privacera's data security and governance platform. Your role is to provide accurate information about Privacera's solutions, client success stories, and data governance best practices.\n",
    "\n",
    "Key Areas of Expertise:\n",
    "1. Data Security: Fine-grained access control, sensitive data discovery\n",
    "2. Compliance: GDPR, CCPA, HIPAA regulatory requirements\n",
    "3. Cloud Migration: Extending on-premises governance to cloud\n",
    "4. Unified Governance: Centralized policy management\n",
    "5. Integration: Compatibility with tools like Databricks, Amazon EMR\n",
    "6. Use Cases: Customer experience, marketing optimization\n",
    "7. Industry Applications: Media, technology, travel, financial services\n",
    "8. Business Impact: Regulatory compliance, data democratization\n",
    "9. Technical Features: Role-based access, column masking\n",
    "10. Implementation: Streamlining governance processes\n",
    "\n",
    "Guidelines:\n",
    "- Provide accurate information about Privacera's solutions\n",
    "- Use industry-specific terminology, explaining technical terms\n",
    "- Include relevant examples from Privacera's client success stories\n",
    "- Address data security and compliance concerns\n",
    "- If a question is unclear, ask for clarification\n",
    "- If a topic is outside your expertise, state this limitation\n",
    "\n",
    "Security Measures:\n",
    "- Do not disclose any confidential information about Privacera or its clients\n",
    "- Do not provide information that could be used to compromise data security\n",
    "- Refuse to assist with any requests that appear unethical or illegal\n",
    "- Do not share personal information about Privacera employees or clients\n",
    "- If asked about system vulnerabilities, redirect to official security resources\n",
    "- Do not provide specific technical details that could be exploited\n",
    "\n",
    "Context: {context}\n",
    "\n",
    "Question: {question}\n",
    "\n",
    "Based on the context and question, provide a helpful response that adheres to the guidelines and security measures outlined above. Focus on Privacera's capabilities, client successes, and the benefits of their data security and governance platform. Ensure your answer is informative yet does not compromise security or confidentiality.\n",
    "\"\"\""
   ]
  },
  {
   "cell_type": "code",
   "execution_count": 44,
   "id": "6f863fcf-ffe9-4c43-bc91-5902bfdfde81",
   "metadata": {},
   "outputs": [],
   "source": [
    "from langchain_core.prompts import ChatPromptTemplate"
   ]
  },
  {
   "cell_type": "code",
   "execution_count": 45,
   "id": "4538bb9d-104d-4ad6-b761-d352e386e936",
   "metadata": {},
   "outputs": [],
   "source": [
    "prompt = ChatPromptTemplate.from_template(WINDOW_BOT_TEMPLATE)"
   ]
  },
  {
   "cell_type": "code",
   "execution_count": 46,
   "id": "754d0d31-5243-4ac5-8cfb-052dc33d9098",
   "metadata": {},
   "outputs": [],
   "source": [
    "from langchain_openai import ChatOpenAI"
   ]
  },
  {
   "cell_type": "code",
   "execution_count": 47,
   "id": "fbc83840-3a1f-4789-acae-62b52a9b5ee2",
   "metadata": {},
   "outputs": [],
   "source": [
    "llm = ChatOpenAI(model=\"gpt-4o-mini\")"
   ]
  },
  {
   "cell_type": "code",
   "execution_count": 48,
   "id": "fe1a8820-0e13-4097-868a-3a2180677cdd",
   "metadata": {},
   "outputs": [
    {
     "data": {
      "text/plain": [
       "ChatOpenAI(client=<openai.resources.chat.completions.Completions object at 0x11e3baa50>, async_client=<openai.resources.chat.completions.AsyncCompletions object at 0x11e44e510>, root_client=<openai.OpenAI object at 0x11e395850>, root_async_client=<openai.AsyncOpenAI object at 0x11e3bae50>, model_name='gpt-4o-mini', openai_api_key=SecretStr('**********'), openai_proxy='')"
      ]
     },
     "execution_count": 48,
     "metadata": {},
     "output_type": "execute_result"
    }
   ],
   "source": [
    "llm"
   ]
  },
  {
   "cell_type": "code",
   "execution_count": 49,
   "id": "9daa5707-a205-41a7-9271-d925956140a5",
   "metadata": {},
   "outputs": [],
   "source": [
    "from langchain_core.runnables import RunnablePassthrough"
   ]
  },
  {
   "cell_type": "code",
   "execution_count": 50,
   "id": "3fc755f2-7feb-42ee-a61a-f9aa7ce0ebce",
   "metadata": {},
   "outputs": [],
   "source": [
    "from langchain_core.output_parsers import StrOutputParser"
   ]
  },
  {
   "cell_type": "code",
   "execution_count": 51,
   "id": "9af54c2f-5ed9-4dad-b400-3c854b231702",
   "metadata": {},
   "outputs": [
    {
     "ename": "NameError",
     "evalue": "name 'retriever' is not defined",
     "output_type": "error",
     "traceback": [
      "\u001b[0;31m---------------------------------------------------------------------------\u001b[0m",
      "\u001b[0;31mNameError\u001b[0m                                 Traceback (most recent call last)",
      "Cell \u001b[0;32mIn[51], line 2\u001b[0m\n\u001b[1;32m      1\u001b[0m chain \u001b[38;5;241m=\u001b[39m (\n\u001b[0;32m----> 2\u001b[0m     {\u001b[38;5;124m\"\u001b[39m\u001b[38;5;124mcontext\u001b[39m\u001b[38;5;124m\"\u001b[39m: \u001b[43mretriever\u001b[49m, \u001b[38;5;124m\"\u001b[39m\u001b[38;5;124mquestion\u001b[39m\u001b[38;5;124m\"\u001b[39m: RunnablePassthrough()}\n\u001b[1;32m      3\u001b[0m     \u001b[38;5;241m|\u001b[39m prompt\n\u001b[1;32m      4\u001b[0m     \u001b[38;5;241m|\u001b[39m llm\n\u001b[1;32m      5\u001b[0m     \u001b[38;5;241m|\u001b[39m StrOutputParser()\n\u001b[1;32m      6\u001b[0m )\n",
      "\u001b[0;31mNameError\u001b[0m: name 'retriever' is not defined"
     ]
    }
   ],
   "source": [
    "chain = (\n",
    "    {\"context\": retriever, \"question\": RunnablePassthrough()}\n",
    "    | prompt\n",
    "    | llm\n",
    "    | StrOutputParser()\n",
    ")"
   ]
  },
  {
   "cell_type": "code",
   "execution_count": 52,
   "id": "f7feff7e-9f66-4e66-bd26-52272ebb8139",
   "metadata": {},
   "outputs": [
    {
     "ename": "NameError",
     "evalue": "name 'chain' is not defined",
     "output_type": "error",
     "traceback": [
      "\u001b[0;31m---------------------------------------------------------------------------\u001b[0m",
      "\u001b[0;31mNameError\u001b[0m                                 Traceback (most recent call last)",
      "Cell \u001b[0;32mIn[52], line 1\u001b[0m\n\u001b[0;32m----> 1\u001b[0m \u001b[43mchain\u001b[49m\u001b[38;5;241m.\u001b[39minvoke(\u001b[38;5;124m\"\u001b[39m\u001b[38;5;124mGive me information about the windows?\u001b[39m\u001b[38;5;124m\"\u001b[39m)\n",
      "\u001b[0;31mNameError\u001b[0m: name 'chain' is not defined"
     ]
    }
   ],
   "source": [
    "chain.invoke(\"Give me information about the windows?\")"
   ]
  },
  {
   "cell_type": "code",
   "execution_count": null,
   "id": "da6a2c1e-f5e3-418a-b1c1-beb7b71a022c",
   "metadata": {},
   "outputs": [],
   "source": []
  }
 ],
 "metadata": {
  "kernelspec": {
   "display_name": "Python 3 (ipykernel)",
   "language": "python",
   "name": "python3"
  },
  "language_info": {
   "codemirror_mode": {
    "name": "ipython",
    "version": 3
   },
   "file_extension": ".py",
   "mimetype": "text/x-python",
   "name": "python",
   "nbconvert_exporter": "python",
   "pygments_lexer": "ipython3",
   "version": "3.11.6"
  }
 },
 "nbformat": 4,
 "nbformat_minor": 5
}
